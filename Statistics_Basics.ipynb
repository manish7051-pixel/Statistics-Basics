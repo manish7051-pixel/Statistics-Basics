{
  "nbformat": 4,
  "nbformat_minor": 0,
  "metadata": {
    "colab": {
      "provenance": []
    },
    "kernelspec": {
      "name": "python3",
      "display_name": "Python 3"
    },
    "language_info": {
      "name": "python"
    }
  },
  "cells": [
    {
      "cell_type": "markdown",
      "source": [
        "# **THEORY QUESTIONS**"
      ],
      "metadata": {
        "id": "E4G5j2CEmXe9"
      }
    },
    {
      "cell_type": "markdown",
      "source": [
        "1. What is statistics, and why is it important?\n",
        "\n",
        " - Statistics is a branch of mathematics that deals with collecting, organizing, analyzing, interpreting, and presenting data. It helps in making informed decisions by providing methods to understand variability, patterns, and relationships within data. In the real world, statistics is crucial for research, policymaking, quality control, business forecasting, and evidence-based decision-making. Whether in healthcare, economics, or social sciences, it transforms raw data into meaningful insights"
      ],
      "metadata": {
        "id": "3Zdn6vuQoAyL"
      }
    },
    {
      "cell_type": "markdown",
      "source": [
        "2. What are the two main types of statistics?\n",
        "\n",
        " - The two main branches of statistics are descriptive statistics and inferential statistics. Descriptive statistics summarize and describe the main features of a dataset using measures such as mean, median, mode, standard deviation, and graphs. Inferential statistics, on the other hand, allow us to make predictions or generalizations about a population based on a sample. This includes hypothesis testing, confidence intervals, and regression analysis.\n",
        "\n"
      ],
      "metadata": {
        "id": "3HiBcqg6obM7"
      }
    },
    {
      "cell_type": "markdown",
      "source": [
        " 3. What are descriptive statistics?\n",
        "\n",
        "  - Descriptive statistics are methods used to summarize and present data in a meaningful way. This includes numerical measures like mean, median, mode, range, variance, and standard deviation, as well as visual tools like histograms, pie charts, and boxplots. These statistics give a clear overview of the dataset without making any inferences or predictions about the population from which the data was drawn.\n",
        "\n"
      ],
      "metadata": {
        "id": "SJ7DySyBpl3k"
      }
    },
    {
      "cell_type": "markdown",
      "source": [
        "4. What is inferential statistics?\n",
        "\n",
        " - Inferential statistics involves techniques that use data from a sample to make generalizations or predictions about a population. This type of analysis includes hypothesis testing, estimation, confidence intervals, and regression. Inferential statistics help determine relationships, trends, and cause-effect patterns, which are essential in fields like clinical trials, market research, and social sciences."
      ],
      "metadata": {
        "id": "LIqtUVgVp0aB"
      }
    },
    {
      "cell_type": "markdown",
      "source": [
        "5. What is sampling in statistics?\n",
        " - Sampling in statistics is the process of selecting a subset of individuals or items from a larger population to estimate characteristics of the whole population. Since it's often impractical or impossible to gather data from every member of a population, sampling allows researchers to draw conclusions efficiently. Proper sampling techniques ensure the sample is representative and helps reduce bias and error in statistical inference."
      ],
      "metadata": {
        "id": "zni4BRN1p6T2"
      }
    },
    {
      "cell_type": "markdown",
      "source": [
        " 6 What are the different types of sampling methods?\n",
        "  - The main sampling methods are:\n",
        "\n",
        "  - 1.Simple Random Sampling: Every member has an equal chance.\n",
        "\n",
        "  - 2.Systematic Sampling: Selecting every kth item.\n",
        "\n",
        "  - 3.Stratified Sampling: Dividing population into subgroups and sampling from each.\n",
        "\n",
        "  - 4.Cluster Sampling: Dividing into clusters and randomly selecting whole clusters.\n",
        "These methods vary in their design and are chosen based on study goals.\n",
        "\n"
      ],
      "metadata": {
        "id": "R-GbCuLVqAcB"
      }
    },
    {
      "cell_type": "markdown",
      "source": [
        " 7.  What is the difference between random and non-random sampling?\n",
        "  - Random sampling involves selecting samples where every member of the population has an equal chance of being selected, while non-random sampling does not give all population members equal selection opportunities. Random sampling methods are generally preferred for statistical inference as they reduce bias, whereas non-random methods may be used when random sampling is impractical but can introduce selection bias."
      ],
      "metadata": {
        "id": "S4kG1WPDqaFj"
      }
    },
    {
      "cell_type": "markdown",
      "source": [
        "8. Define and give examples of qualitative and quantitative data.\n",
        "  - Qualitative data describes qualities or characteristics and is non-numerical, such as gender, color, or satisfaction ratings (e.g., \"happy\", \"sad\"). Quantitative data consists of numerical measurements or counts, such as height, weight, temperature, or number of items sold, which can be discrete or continuous.\n",
        "\n"
      ],
      "metadata": {
        "id": "Lpoiau2cqgve"
      }
    },
    {
      "cell_type": "markdown",
      "source": [
        "9.What are the different types of data in statistics?\n",
        "\n",
        "  - The different types of data in statistics include nominal data (categories without order), ordinal data (categories with order but no fixed intervals), interval data (ordered categories with equal intervals but no true zero), and ratio data (ordered categories with equal intervals and a true zero point).\n",
        "\n",
        "\n",
        "\n"
      ],
      "metadata": {
        "id": "oSfwBDjtqlOl"
      }
    },
    {
      "cell_type": "markdown",
      "source": [
        "10.Explain nominal, ordinal, interval, and ratio levels of measurement.\n",
        "\n",
        "  - Nominal level of measurement classifies data into categories without order (e.g., gender, race). Ordinal level classifies data into ordered categories without fixed intervals (e.g., satisfaction levels). Interval level has ordered categories with equal intervals but no true zero (e.g., temperature in Celsius). Ratio level has ordered categories with equal intervals and a true zero (e.g., height, weight)."
      ],
      "metadata": {
        "id": "45TO0IL9qqOP"
      }
    },
    {
      "cell_type": "markdown",
      "source": [
        "11.What is the measure of central tendency?\n",
        "\n",
        "  - A measure of central tendency is a single value that represents the center point or typical value of a dataset. The three main measures are the mean, median, and mode, each providing different information about the distribution of values in the dataset.\n"
      ],
      "metadata": {
        "id": "gwLVHdoEqvxT"
      }
    },
    {
      "cell_type": "markdown",
      "source": [
        " 12. Define mean, median, and mode.\n",
        "\n",
        "  - The mean is the arithmetic average calculated by summing all values and dividing by the number of values. The median is the middle value when all values are arranged in order. The mode is the most frequently occurring value in a dataset.\n"
      ],
      "metadata": {
        "id": "1AaAWeb_q2aY"
      }
    },
    {
      "cell_type": "markdown",
      "source": [
        "13. What is the significance of the measure of central tendency?\n",
        "\n",
        "  - Measures of central tendency are significant because they provide a single value that summarizes an entire dataset, representing a typical or central value. They help simplify complex data, enable comparisons between datasets, and serve as a foundation for more advanced statistical analyses."
      ],
      "metadata": {
        "id": "VowHERPjrAA0"
      }
    },
    {
      "cell_type": "markdown",
      "source": [
        "14.What is variance, and how is it calculated?\n",
        "\n",
        "  - Variance measures how spread out the values in a dataset are around the mean. It is calculated by averaging the squared differences between each data point and the mean. Formula:\n",
        "Variance (σ²) = Σ(xᵢ - μ)² / N, where μ is the mean and N is the number of data points. High variance indicates greater dispersion.\n",
        "\n",
        "\n",
        "\n"
      ],
      "metadata": {
        "id": "F8_czC5crJtg"
      }
    },
    {
      "cell_type": "markdown",
      "source": [
        " 15.What is standard deviation, and why is it important?\n",
        "\n",
        " -  Standard deviation is the square root of variance and shows how much data deviates from the mean. It’s expressed in the same units as the data, making it easier to interpret. A small standard deviation means the data points are close to the mean, while a large one indicates wide variability. It’s essential for understanding data consistency and making predictions.\n",
        "\n"
      ],
      "metadata": {
        "id": "niWrf-9IrPTi"
      }
    },
    {
      "cell_type": "markdown",
      "source": [
        "16. Define and explain the term range in statistics\n",
        "\n",
        " -  Range is the simplest measure of dispersion, calculated as the difference between the maximum and minimum values in a dataset. It shows the extent of spread but does not consider how data is distributed within that spread, making it sensitive to outliers.\n"
      ],
      "metadata": {
        "id": "Z8au0zOisKXV"
      }
    },
    {
      "cell_type": "markdown",
      "source": [
        " 17.What is the difference between variance and standard deviation?\n",
        "\n",
        "\n",
        " - Variance measures the average squared deviation from the mean, while standard deviation is the square root of variance. Variance is in squared units, which makes it less interpretable. Standard deviation is more commonly used because it expresses variability in the same units as the data."
      ],
      "metadata": {
        "id": "rzu0CL3CsX1n"
      }
    },
    {
      "cell_type": "markdown",
      "source": [
        "18. What is skewness in a dataset?\n",
        "\n",
        " -  Skewness measures the asymmetry of a distribution. A dataset is said to be skewed if it is not symmetrical around the mean. Positive skew indicates a longer right tail, while negative skew indicates a longer left tail. Skewness helps assess the normality of data.\n",
        "\n",
        "  \n"
      ],
      "metadata": {
        "id": "ICI2VWmKsfpB"
      }
    },
    {
      "cell_type": "markdown",
      "source": [
        " 19.What does it mean if a dataset is positively or negatively skewed?\n",
        "\n",
        " -   Positively skewed: Mean > Median > Mode. The right tail is longer; high values pull the mean to the right.\n",
        "\n",
        " -  Negatively skewed: Mean < Median < Mode. The left tail is longer; low values pull the mean to the left."
      ],
      "metadata": {
        "id": "jwXy19KSsm88"
      }
    },
    {
      "cell_type": "markdown",
      "source": [
        "20.Define and explain kurtosis.\n",
        "\n",
        "  - Kurtosis measures the “tailedness” of a distribution. High kurtosis means more outliers (heavy tails), while low kurtosis indicates light tails and fewer outliers. There are three types: leptokurtic (heavy tails), mesokurtic (normal distribution), and platykurtic (light tails)."
      ],
      "metadata": {
        "id": "DFEWVwJOssYM"
      }
    },
    {
      "cell_type": "markdown",
      "source": [
        "21. What is the purpose of covariance?\n",
        "\n",
        "   - Covariance measures how two variables change together. A positive covariance means they increase together, while a negative one means one increases as the other decreases. It gives insight into the direction of the relationship but not the strength."
      ],
      "metadata": {
        "id": "ZpdNiBoEs3Xg"
      }
    },
    {
      "cell_type": "markdown",
      "source": [
        " 22.What does correlation measure in statistics?\n",
        "\n",
        " -  Correlation quantifies the strength and direction of a linear relationship between two variables. It ranges from -1 (perfect negative) to +1 (perfect positive), with 0 indicating no linear relationship. Common correlation methods include Pearson and Spearman.\n",
        "\n"
      ],
      "metadata": {
        "id": "Gjo-kKhOtCSr"
      }
    },
    {
      "cell_type": "markdown",
      "source": [
        " 23. What is the difference between covariance and correlation?\n",
        "\n",
        "  - Covariance shows the direction of a relationship but is scale-dependent. Correlation standardizes covariance by dividing by the product of standard deviations, making it unitless and easier to interpret. Correlation gives both direction and strength."
      ],
      "metadata": {
        "id": "_EDzWU9LtIEV"
      }
    },
    {
      "cell_type": "markdown",
      "source": [
        " 24.What are some real-world applications of statistics?\n",
        "\n",
        "1.Healthcare: clinical trials, disease modeling\n",
        "\n",
        "2.Business: sales forecasting, customer behavior analysis\n",
        "\n",
        "3.Government: policy planning, census data\n",
        "\n",
        "4.Sports: performance analysis\n",
        "\n",
        "5.Education: test scoring and curriculum development\n"
      ],
      "metadata": {
        "id": "BVf0hTLVtMm0"
      }
    },
    {
      "cell_type": "markdown",
      "source": [
        "# **PRACTICAL QUESTIONS**"
      ],
      "metadata": {
        "id": "0XlukqZPrgHk"
      }
    },
    {
      "cell_type": "code",
      "source": [
        "#1. How to calculate mean, median, and mode of a dataset?\n",
        "\n",
        "\n",
        "import numpy as np\n",
        "from scipy import stats\n",
        "\n",
        "# Sample dataset\n",
        "data = [12, 15, 14, 10, 18, 20, 15, 18, 17]\n",
        "\n",
        "# Mean\n",
        "mean = np.mean(data)\n",
        "\n",
        "# Median\n",
        "median = np.median(data)\n",
        "\n",
        "# Mode\n",
        "mode = stats.mode(data, keepdims=True)  # avoid warning\n",
        "\n",
        "print(\"Mean:\", mean)\n",
        "print(\"Median:\", median)\n",
        "print(\"Mode:\", mode.mode[0])\n"
      ],
      "metadata": {
        "colab": {
          "base_uri": "https://localhost:8080/"
        },
        "id": "76PXFyKCr08K",
        "outputId": "d58c5b1d-d0a8-4453-ff24-73c4c1da69c5"
      },
      "execution_count": null,
      "outputs": [
        {
          "output_type": "stream",
          "name": "stdout",
          "text": [
            "Mean: 15.444444444444445\n",
            "Median: 15.0\n",
            "Mode: 15\n"
          ]
        }
      ]
    },
    {
      "cell_type": "code",
      "source": [
        "#2. Write a Python program to compute the variance and standard deviation of a dataset\n",
        "\n",
        "import math\n",
        "\n",
        "def variance_std_dev(data):\n",
        "    mean = sum(data) / len(data)\n",
        "    squared_diffs = [(x - mean)**2 for x in data]\n",
        "    variance = sum(squared_diffs) / len(data)\n",
        "    std_dev = math.sqrt(variance)\n",
        "    return variance, std_dev\n",
        "\n",
        "# Example usage:\n",
        "data = [1, 2, 3, 4, 5, 6, 7, 8, 9]\n",
        "var, std = variance_std_dev(data)\n",
        "print(f\"Variance: {var:.2f}, Standard Deviation: {std:.2f}\")\n",
        "\n",
        "# Using numpy:\n",
        "import numpy as np\n",
        "data = np.array([1, 2, 3, 4, 5, 6, 7, 8, 9])\n",
        "print(f\"NumPy Variance: {np.var(data):.2f}\")\n",
        "print(f\"NumPy Std Dev: {np.std(data):.2f}\")"
      ],
      "metadata": {
        "id": "60oq09K6tXUO",
        "colab": {
          "base_uri": "https://localhost:8080/"
        },
        "outputId": "8e07f3a0-599e-442d-d133-f00d8ad145f0"
      },
      "execution_count": 1,
      "outputs": [
        {
          "output_type": "stream",
          "name": "stdout",
          "text": [
            "Variance: 6.67, Standard Deviation: 2.58\n",
            "NumPy Variance: 6.67\n",
            "NumPy Std Dev: 2.58\n"
          ]
        }
      ]
    },
    {
      "cell_type": "code",
      "source": [
        "#3. Create a dataset and classify it into nominal, ordinal, interval, and ratio types\n",
        "\n",
        "# Nominal data (categories without order)\n",
        "colors = [\"red\", \"blue\", \"green\", \"blue\", \"red\"]\n",
        "\n",
        "# Ordinal data (categories with order but no fixed intervals)\n",
        "education_level = [\"high school\", \"bachelor\", \"master\", \"phd\"]\n",
        "\n",
        "# Interval data (numerical with no true zero)\n",
        "temperature_celsius = [20, 22, 19, 25, 23]\n",
        "\n",
        "# Ratio data (numerical with true zero)\n",
        "weights_kg = [65, 72, 58, 80, 68]"
      ],
      "metadata": {
        "id": "5M9xzBGIYeEU"
      },
      "execution_count": 3,
      "outputs": []
    },
    {
      "cell_type": "code",
      "source": [
        "#4.Implement sampling techniques like random sampling and stratified sampling\n",
        "\n",
        "import random\n",
        "import numpy as np\n",
        "\n",
        "# Simple random sampling\n",
        "def simple_random_sample(data, sample_size):\n",
        "    return random.sample(data, sample_size)\n",
        "\n",
        "# Stratified sampling\n",
        "def stratified_sample(data, strata, sample_size):\n",
        "    strata_counts = {s: data.count(s) for s in set(data)}\n",
        "    samples_per_stratum = {s: int(sample_size * count/len(data))\n",
        "                         for s, count in strata_counts.items()}\n",
        "    sample = []\n",
        "    for stratum, count in samples_per_stratum.items():\n",
        "        stratum_data = [x for x in data if x == stratum]\n",
        "        sample.extend(random.sample(stratum_data, count))\n",
        "    return sample\n",
        "\n",
        "# Example usage:\n",
        "population = [\"A\"]*30 + [\"B\"]*50 + [\"C\"]*20  # 30% A, 50% B, 20% C\n",
        "print(\"Simple random:\", simple_random_sample(population, 10))\n",
        "print(\"Stratified:\", stratified_sample(population, [\"A\", \"B\", \"C\"], 10))"
      ],
      "metadata": {
        "colab": {
          "base_uri": "https://localhost:8080/"
        },
        "id": "k85t-KqXYrwF",
        "outputId": "8b4629ad-9343-4aa5-cb31-24bba090ed76"
      },
      "execution_count": 4,
      "outputs": [
        {
          "output_type": "stream",
          "name": "stdout",
          "text": [
            "Simple random: ['B', 'B', 'B', 'C', 'A', 'A', 'B', 'A', 'A', 'C']\n",
            "Stratified: ['A', 'A', 'A', 'C', 'C', 'B', 'B', 'B', 'B', 'B']\n"
          ]
        }
      ]
    },
    {
      "cell_type": "code",
      "source": [
        "#5. Write a Python function to calculate the range of a dataset\n",
        "\n",
        "def calculate_range(data):\n",
        "    return max(data) - min(data)\n",
        "\n",
        "# Example usage:\n",
        "data = [4, 7, 2, 9, 5, 1, 8]\n",
        "print(\"Range:\", calculate_range(data))"
      ],
      "metadata": {
        "colab": {
          "base_uri": "https://localhost:8080/"
        },
        "id": "7Kko9jB8Y1UW",
        "outputId": "e6aaa130-5fc3-4ae8-dba9-2a54cb56b642"
      },
      "execution_count": 5,
      "outputs": [
        {
          "output_type": "stream",
          "name": "stdout",
          "text": [
            "Range: 8\n"
          ]
        }
      ]
    },
    {
      "cell_type": "code",
      "source": [
        "#6. Create a dataset and plot its histogram to visualize skewness\n",
        "\n",
        "import matplotlib.pyplot as plt\n",
        "import numpy as np\n",
        "\n",
        "# Create skewed data\n",
        "right_skewed = np.random.gamma(2, 2, 1000)\n",
        "left_skewed = np.max(right_skewed) - right_skewed\n",
        "\n",
        "# Plot histograms\n",
        "plt.figure(figsize=(12, 5))\n",
        "\n",
        "plt.subplot(1, 2, 1)\n",
        "plt.hist(right_skewed, bins=30, color='skyblue')\n",
        "plt.title(\"Right (Positively) Skewed Data\")\n",
        "\n",
        "plt.subplot(1, 2, 2)\n",
        "plt.hist(left_skewed, bins=30, color='salmon')\n",
        "plt.title(\"Left (Negatively) Skewed Data\")\n",
        "\n",
        "plt.tight_layout()\n",
        "plt.show()"
      ],
      "metadata": {
        "colab": {
          "base_uri": "https://localhost:8080/",
          "height": 411
        },
        "id": "nPHi8BB4Y8h9",
        "outputId": "8c391921-57da-4859-ad3d-b48ac1d63824"
      },
      "execution_count": 6,
      "outputs": [
        {
          "output_type": "display_data",
          "data": {
            "text/plain": [
              "<Figure size 1200x500 with 2 Axes>"
            ],
            "image/png": "[encoded data removed]"
          },
          "metadata": {}
        }
      ]
    },
    {
      "cell_type": "code",
      "source": [
        "#7. Calculate skewness and kurtosis of a dataset using Python libraries\n",
        "\n",
        "from scipy.stats import skew, kurtosis\n",
        "import numpy as np\n",
        "\n",
        "data = np.random.normal(0, 1, 1000)  # Normal distribution\n",
        "print(f\"Skewness: {skew(data):.2f}\")\n",
        "print(f\"Kurtosis: {kurtosis(data):.2f}\")\n",
        "\n",
        "# For a more skewed dataset:\n",
        "skewed_data = np.random.exponential(1, 1000)\n",
        "print(f\"Skewed data skewness: {skew(skewed_data):.2f}\")\n",
        "print(f\"Skewed data kurtosis: {kurtosis(skewed_data):.2f}\")"
      ],
      "metadata": {
        "colab": {
          "base_uri": "https://localhost:8080/"
        },
        "id": "wqsV9RhbZFgx",
        "outputId": "7da478e5-c488-404e-eacb-96eb44358902"
      },
      "execution_count": 7,
      "outputs": [
        {
          "output_type": "stream",
          "name": "stdout",
          "text": [
            "Skewness: -0.10\n",
            "Kurtosis: -0.11\n",
            "Skewed data skewness: 2.21\n",
            "Skewed data kurtosis: 7.46\n"
          ]
        }
      ]
    },
    {
      "cell_type": "code",
      "source": [
        "#8.Generate a dataset and demonstrate positive and negative skewness\n",
        "\n",
        "import numpy as np\n",
        "import matplotlib.pyplot as plt\n",
        "\n",
        "# Generate data\n",
        "positive_skew = np.random.exponential(scale=2, size=1000)\n",
        "negative_skew = np.max(positive_skew) - positive_skew\n",
        "\n",
        "# Plot\n",
        "plt.figure(figsize=(12, 5))\n",
        "\n",
        "plt.subplot(1, 2, 1)\n",
        "plt.hist(positive_skew, bins=30, color='blue')\n",
        "plt.title(\"Positively Skewed Data\")\n",
        "\n",
        "plt.subplot(1, 2, 2)\n",
        "plt.hist(negative_skew, bins=30, color='red')\n",
        "plt.title(\"Negatively Skewed Data\")\n",
        "\n",
        "plt.show()"
      ],
      "metadata": {
        "colab": {
          "base_uri": "https://localhost:8080/",
          "height": 454
        },
        "id": "bbJ9ikSBZVoI",
        "outputId": "4c2263ae-f4ca-4fb3-aa78-362d73934cef"
      },
      "execution_count": 8,
      "outputs": [
        {
          "output_type": "display_data",
          "data": {
            "text/plain": [
              "<Figure size 1200x500 with 2 Axes>"
            ],
            "image/png": "[encoded data removed]"
          },
          "metadata": {}
        }
      ]
    },
    {
      "cell_type": "code",
      "source": [
        "#9.Write a Python script to calculate covariance between two datasets\n",
        "\n",
        "import numpy as np\n",
        "\n",
        "def covariance(x, y):\n",
        "    if len(x) != len(y):\n",
        "        raise ValueError(\"Datasets must be of equal length\")\n",
        "    n = len(x)\n",
        "    mean_x = sum(x) / n\n",
        "    mean_y = sum(y) / n\n",
        "    cov = sum((xi - mean_x) * (yi - mean_y) for xi, yi in zip(x, y)) / n\n",
        "    return cov\n",
        "\n",
        "# Example usage:\n",
        "x = [1, 2, 3, 4, 5]\n",
        "y = [2, 3, 4, 5, 6]\n",
        "print(\"Manual covariance:\", covariance(x, y))\n",
        "print(\"NumPy covariance:\", np.cov(x, y, bias=True)[0][1])  # bias=True for population covariance"
      ],
      "metadata": {
        "colab": {
          "base_uri": "https://localhost:8080/"
        },
        "id": "gksoaIkIZfAL",
        "outputId": "358e42a3-ab7a-4fd0-cd63-32f6772de449"
      },
      "execution_count": 9,
      "outputs": [
        {
          "output_type": "stream",
          "name": "stdout",
          "text": [
            "Manual covariance: 2.0\n",
            "NumPy covariance: 2.0\n"
          ]
        }
      ]
    },
    {
      "cell_type": "code",
      "source": [
        "#10. Write a Python script to calculate the correlation coefficient between two datasets\n",
        "\n",
        "import math\n",
        "import numpy as np\n",
        "\n",
        "def pearson_correlation(x, y):\n",
        "    if len(x) != len(y):\n",
        "        raise ValueError(\"Datasets must be of equal length\")\n",
        "    n = len(x)\n",
        "    mean_x = sum(x) / n\n",
        "    mean_y = sum(y) / n\n",
        "\n",
        "    cov = sum((xi - mean_x) * (yi - mean_y) for xi, yi in zip(x, y))\n",
        "    std_x = math.sqrt(sum((xi - mean_x)**2 for xi in x))\n",
        "    std_y = math.sqrt(sum((yi - mean_y)**2 for yi in y))\n",
        "\n",
        "    return cov / (std_x * std_y)\n",
        "\n",
        "# Example usage:\n",
        "x = [1, 2, 3, 4, 5]\n",
        "y = [2, 3, 4, 5, 6]\n",
        "print(\"Manual Pearson correlation:\", pearson_correlation(x, y))\n",
        "print(\"NumPy Pearson correlation:\", np.corrcoef(x, y)[0, 1])\n",
        "\n",
        "# Using scipy for Pearson and Spearman\n",
        "from scipy.stats import pearsonr, spearmanr\n",
        "print(\"SciPy Pearson:\", pearsonr(x, y)[0])\n",
        "print(\"SciPy Spearman:\", spearmanr(x, y)[0])"
      ],
      "metadata": {
        "colab": {
          "base_uri": "https://localhost:8080/"
        },
        "id": "1N3ldSy_Z_K0",
        "outputId": "abd21e87-cf80-410e-bfd3-d332a87dc482"
      },
      "execution_count": 10,
      "outputs": [
        {
          "output_type": "stream",
          "name": "stdout",
          "text": [
            "Manual Pearson correlation: 0.9999999999999998\n",
            "NumPy Pearson correlation: 0.9999999999999999\n",
            "SciPy Pearson: 1.0\n",
            "SciPy Spearman: 0.9999999999999999\n"
          ]
        }
      ]
    },
    {
      "cell_type": "code",
      "source": [
        "#11. Create a scatter plot to visualize the relationship between two variables\n",
        "\n",
        "import matplotlib.pyplot as plt\n",
        "import numpy as np\n",
        "\n",
        "# Generate correlated data\n",
        "np.random.seed(42)\n",
        "x = np.random.rand(100)\n",
        "y = x * 2 + np.random.normal(0, 0.1, 100)\n",
        "\n",
        "# Create scatter plot\n",
        "plt.figure(figsize=(8, 6))\n",
        "plt.scatter(x, y, alpha=0.7)\n",
        "plt.title(\"Scatter Plot Showing Positive Correlation\")\n",
        "plt.xlabel(\"X Variable\")\n",
        "plt.ylabel(\"Y Variable\")\n",
        "plt.grid(True)\n",
        "plt.show()"
      ],
      "metadata": {
        "colab": {
          "base_uri": "https://localhost:8080/",
          "height": 564
        },
        "id": "neo3JCbCaH8X",
        "outputId": "727d17e6-86ac-44f0-f189-149e16322aeb"
      },
      "execution_count": 11,
      "outputs": [
        {
          "output_type": "display_data",
          "data": {
            "text/plain": [
              "<Figure size 800x600 with 1 Axes>"
            ],
            "image/png": "[encoded data removed]"
          },
          "metadata": {}
        }
      ]
    },
    {
      "cell_type": "code",
      "source": [
        "#12.Implement and compare simple random sampling and systematic sampling\n",
        "\n",
        "import random\n",
        "\n",
        "population = list(range(1000))  # Our population is numbers 0-999\n",
        "\n",
        "# Simple random sampling\n",
        "random_sample = random.sample(population, 100)\n",
        "\n",
        "# Systematic sampling\n",
        "def systematic_sample(pop, sample_size):\n",
        "    step = len(pop) // sample_size\n",
        "    start = random.randint(0, step-1)\n",
        "    return [pop[start + i*step] for i in range(sample_size)]\n",
        "\n",
        "systematic_sample = systematic_sample(population, 100)\n",
        "\n",
        "print(\"Random sample first 10:\", sorted(random_sample)[:10])\n",
        "print(\"Systematic sample first 10:\", sorted(systematic_sample)[:10])"
      ],
      "metadata": {
        "colab": {
          "base_uri": "https://localhost:8080/"
        },
        "id": "39liwFRDaUDv",
        "outputId": "66092fac-0a97-401f-b0cf-759b349146cc"
      },
      "execution_count": 12,
      "outputs": [
        {
          "output_type": "stream",
          "name": "stdout",
          "text": [
            "Random sample first 10: [0, 27, 44, 61, 64, 69, 91, 93, 98, 103]\n",
            "Systematic sample first 10: [7, 17, 27, 37, 47, 57, 67, 77, 87, 97]\n"
          ]
        }
      ]
    },
    {
      "cell_type": "code",
      "source": [
        "#13.Calculate the mean, median, and mode of grouped data\n",
        "\n",
        "def grouped_stats(intervals, frequencies):\n",
        "    # Calculate midpoints of intervals\n",
        "    midpoints = [(interval[0] + interval[1])/2 for interval in intervals]\n",
        "    total_freq = sum(frequencies)\n",
        "\n",
        "    # Mean\n",
        "    mean = sum(m * f for m, f in zip(midpoints, frequencies)) / total_freq\n",
        "\n",
        "    # Median\n",
        "    cum_freq = 0\n",
        "    median_class_index = 0\n",
        "    median_position = total_freq / 2\n",
        "    for i, freq in enumerate(frequencies):\n",
        "        cum_freq += freq\n",
        "        if cum_freq >= median_position:\n",
        "            median_class_index = i\n",
        "            break\n",
        "\n",
        "    L = intervals[median_class_index][0]  # Lower boundary of median class\n",
        "    F = cum_freq - frequencies[median_class_index]  # Cumulative freq before median class\n",
        "    f = frequencies[median_class_index]  # Freq of median class\n",
        "    w = intervals[median_class_index][1] - intervals[median_class_index][0]  # Class width\n",
        "\n",
        "    median = L + ((median_position - F) / f) * w\n",
        "\n",
        "    # Mode\n",
        "    max_freq_index = frequencies.index(max(frequencies))\n",
        "    L_mode = intervals[max_freq_index][0]\n",
        "    f_mode = frequencies[max_freq_index]\n",
        "    f_prev = frequencies[max_freq_index-1] if max_freq_index > 0 else 0\n",
        "    f_next = frequencies[max_freq_index+1] if max_freq_index < len(frequencies)-1 else 0\n",
        "    w_mode = intervals[max_freq_index][1] - intervals[max_freq_index][0]\n",
        "\n",
        "    mode = L_mode + ((f_mode - f_prev) / (2*f_mode - f_prev - f_next)) * w_mode\n",
        "\n",
        "    return mean, median, mode\n",
        "\n",
        "# Example usage:\n",
        "intervals = [(0,10), (10,20), (20,30), (30,40), (40,50)]\n",
        "frequencies = [5, 15, 25, 10, 5]\n",
        "mean, median, mode = grouped_stats(intervals, frequencies)\n",
        "print(f\"Grouped Mean: {mean:.2f}, Median: {median:.2f}, Mode: {mode:.2f}\")"
      ],
      "metadata": {
        "colab": {
          "base_uri": "https://localhost:8080/"
        },
        "id": "iMSNZPWpayIR",
        "outputId": "8e2515e3-73fa-4ed3-d725-70477074bf8d"
      },
      "execution_count": 13,
      "outputs": [
        {
          "output_type": "stream",
          "name": "stdout",
          "text": [
            "Grouped Mean: 24.17, Median: 24.00, Mode: 24.00\n"
          ]
        }
      ]
    },
    {
      "cell_type": "code",
      "source": [
        "#14. Simulate data using Python and calculate its central tendency and dispersion\n",
        "\n",
        "import numpy as np\n",
        "import pandas as pd\n",
        "\n",
        "# Simulate data\n",
        "np.random.seed(42)\n",
        "normal_data = np.random.normal(50, 10, 1000)\n",
        "uniform_data = np.random.uniform(0, 100, 1000)\n",
        "exponential_data = np.random.exponential(scale=20, size=1000)\n",
        "\n",
        "# Create DataFrame\n",
        "df = pd.DataFrame({\n",
        "    'Normal': normal_data,\n",
        "    'Uniform': uniform_data,\n",
        "    'Exponential': exponential_data\n",
        "})\n",
        "\n",
        "# Calculate statistics\n",
        "def calculate_stats(data):\n",
        "    stats = {\n",
        "        'Mean': np.mean(data),\n",
        "        'Median': np.median(data),\n",
        "        'Mode': pd.Series(data).mode()[0],\n",
        "        'Variance': np.var(data),\n",
        "        'Std Dev': np.std(data),\n",
        "        'Range': np.max(data) - np.min(data),\n",
        "        'Skewness': pd.Series(data).skew(),\n",
        "        'Kurtosis': pd.Series(data).kurtosis()\n",
        "    }\n",
        "    return stats\n",
        "\n",
        "# Apply to each distribution\n",
        "for col in df.columns:\n",
        "    print(f\"\\nStatistics for {col} distribution:\")\n",
        "    for stat, value in calculate_stats(df[col]).items():\n",
        "        print(f\"{stat}: {value:.2f}\")\n",
        "\n",
        "# Visualize distributions\n",
        "import matplotlib.pyplot as plt\n",
        "df.hist(bins=30, figsize=(12, 8))\n",
        "plt.tight_layout()\n",
        "plt.show()"
      ],
      "metadata": {
        "colab": {
          "base_uri": "https://localhost:8080/",
          "height": 1000
        },
        "id": "KX_hZI5ka8rP",
        "outputId": "40cd48e9-f2b0-4710-b457-1c3e20d5878d"
      },
      "execution_count": 14,
      "outputs": [
        {
          "output_type": "stream",
          "name": "stdout",
          "text": [
            "\n",
            "Statistics for Normal distribution:\n",
            "Mean: 50.19\n",
            "Median: 50.25\n",
            "Mode: 17.59\n",
            "Variance: 95.79\n",
            "Std Dev: 9.79\n",
            "Range: 70.94\n",
            "Skewness: 0.12\n",
            "Kurtosis: 0.07\n",
            "\n",
            "Statistics for Uniform distribution:\n",
            "Mean: 50.36\n",
            "Median: 51.61\n",
            "Mode: 0.32\n",
            "Variance: 830.67\n",
            "Std Dev: 28.82\n",
            "Range: 99.62\n",
            "Skewness: -0.05\n",
            "Kurtosis: -1.20\n",
            "\n",
            "Statistics for Exponential distribution:\n",
            "Mean: 19.47\n",
            "Median: 13.53\n",
            "Mode: 0.00\n",
            "Variance: 357.10\n",
            "Std Dev: 18.90\n",
            "Range: 122.58\n",
            "Skewness: 1.64\n",
            "Kurtosis: 3.03\n"
          ]
        },
        {
          "output_type": "display_data",
          "data": {
            "text/plain": [
              "<Figure size 1200x800 with 4 Axes>"
            ],
            "image/png": "[encoded data removed]"
          },
          "metadata": {}
        }
      ]
    }
  ]
}